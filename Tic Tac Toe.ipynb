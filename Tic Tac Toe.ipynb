{
  "cells": [
    {
      "cell_type": "code",
      "execution_count": null,
      "metadata": {
        "colab": {
          "background_save": true,
          "base_uri": "https://localhost:8080/"
        },
        "id": "4lT8Z8oZ7nOG",
        "outputId": "f590f935-826b-4735-fe82-716862413b04"
      },
      "outputs": [
        {
          "output_type": "stream",
          "name": "stdout",
          "text": [
            "-------------\n",
            "| O | 2 | 3 |\n",
            "-------------\n",
            "| 4 | X | 6 |\n",
            "-------------\n",
            "| 7 | X | 9 |\n",
            "-------------\n"
          ]
        }
      ],
      "source": [
        "from IPython.display import clear_output\n",
        "import time\n",
        "#All the variables needed\n",
        "board = [[1,2,3],[4,5,6],[7,8,9]] #The players will be placing their characters in this list\n",
        "#and the whole game be conducted based on the current status of this list.\n",
        "current_player_char = 'X' #The character of the current player\n",
        "next_player_char = 'O' # The character of the next player\n",
        "totalInputs = 9 #Since there are 9 slots in total in the whole board.\n",
        "winner = None\n",
        "\n",
        "\n",
        "def checkHorizontal():\n",
        "    if board[0][0]==board[0][1]==board[0][2] or board[1][0]==board[1][1]==board[1][2] or board[2][0]==board[2][1]==board[2][2]:\n",
        "      return True\n",
        "    else:\n",
        "      return False\n",
        "\n",
        "def checkVertical():\n",
        "    if board[0][0]==board[1][0]==board[2][0] or board[0][1]==board[1][1]==board[2][1] or board[0][2]==board[1][2]==board[2][2]:\n",
        "      return True\n",
        "    else:\n",
        "      return False\n",
        "def checkDiagonal():\n",
        "    if board[0][0]==board[1][1]==board[2][2] or board[0][2]==board[1][1]==board[2][0]:\n",
        "      return True\n",
        "    else:\n",
        "      return False\n",
        "\n",
        "def checkBoard():\n",
        "    if checkHorizontal() or checkVertical() or checkDiagonal():\n",
        "      return True\n",
        "    else:\n",
        "      return False\n",
        "\n",
        "def placeCharacterOnBoard(pos):\n",
        "    row = (pos - 1) // 3\n",
        "    col = (pos - 1) % 3\n",
        "    if board[row][col] == 'X' or board[row][col] == 'O':\n",
        "        print(\"Invalid position. Please try again.\")\n",
        "        return 0\n",
        "    board[row][col] = current_player_char\n",
        "    return 1\n",
        "\n",
        "\n",
        "#This function prints the current status of the 'board' list in particular format.\n",
        "def printCurrentBoard():\n",
        "  print(\"-------------\")\n",
        "  for eachRow in board:\n",
        "    print(\"|\",end=\"\")\n",
        "    for eachCol in eachRow:\n",
        "      print(f\" {eachCol} \",end=\"|\")\n",
        "    print() #To move to the next row\n",
        "    print(\"-------------\")\n",
        "\n",
        "#This function will be simulating the whole game.\n",
        "def runGame():\n",
        "  global current_player_char\n",
        "  global next_player_char\n",
        "  global winner\n",
        "  welcome_msg = '''Welcome to the TIC-TAC-TOE game. The first player to place character on the board will be Player 1(Character X) and the other player will be Player 2(Character O).'''\n",
        "  print(welcome_msg)\n",
        "  inputCount= 0 #This variable is for counting the number of inputs and controlling the loop based on it.\n",
        "  while inputCount < totalInputs:\n",
        "    printCurrentBoard() #This function prints the current state of the board as a player needs to see it before making the next move.\n",
        "    position = int(input(f\"Player {(inputCount%2)+1},enter a position that does not contain any X or O:\")) #The user needs to enter a position that does contain any X or O.\n",
        "    validityofInput = placeCharacterOnBoard(position) #validityofInput will be 1 if the user inputs a valid \"position\"; otherwise it will be 0.\n",
        "    inputCount+= validityofInput # If the inputs a valid \"position\", the inputCount will increase by one; otherwise it will remain as it is.\n",
        "    if inputCount>=5: #There is no need to check the board before 5 valid inputs as there will be no winners before 5 valid inputs.\n",
        "      if checkBoard(): #If checkBoard() returned True then current player won the game.\n",
        "        winner = \"Player 1\" if current_player_char == 'X' else \"Player 2\"\n",
        "        clear_output() #This function clears the output panel.\n",
        "        break\n",
        "    if validityofInput: #Only if the player inputs a valid \"position\", the player characters will be swapped for the next move.\n",
        "      current_player_char,next_player_char = next_player_char,current_player_char #The players will place characters alternatively. So if X is the current player's character, in the next turn O will be the current player's character.\n",
        "    clear_output() #This function clears the output panel before printing the current board status for the next player.\n",
        "  printCurrentBoard()\n",
        "  #After the while loop if the value of  winner is still none, that means the game ended in a draw; otherwise we have a winner.\n",
        "  if winner != None:\n",
        "    print(f\"Well done, {winner}. You have won the game.\")\n",
        "  else:\n",
        "    print(f\"The game ended in a draw\")\n",
        "\n",
        "\n",
        "runGame()\n"
      ]
    },
    {
      "cell_type": "code",
      "execution_count": null,
      "metadata": {
        "id": "NoXJowXLEunH"
      },
      "outputs": [],
      "source": []
    }
  ],
  "metadata": {
    "colab": {
      "provenance": []
    },
    "kernelspec": {
      "display_name": "Python 3",
      "name": "python3"
    },
    "language_info": {
      "name": "python"
    }
  },
  "nbformat": 4,
  "nbformat_minor": 0
}